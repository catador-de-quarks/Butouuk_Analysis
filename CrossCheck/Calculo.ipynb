{
 "cells": [
  {
   "cell_type": "code",
   "execution_count": 1,
   "metadata": {},
   "outputs": [],
   "source": [
    "#Variables para el crosscheck\n",
    "\n",
    "YieldsJPsi  = 2364617\n",
    "YieldsPsi2S = 214491 \n",
    "EffJPsi     = 0.0055401\n",
    "EffPsi2S    = 0.00609043\n",
    "BRJpsiuu    = 0.05961\n",
    "BRPsi2s     = 0.008"
   ]
  },
  {
   "cell_type": "code",
   "execution_count": 2,
   "metadata": {},
   "outputs": [
    {
     "data": {
      "text/plain": [
       "0.6148186729221274"
      ]
     },
     "execution_count": 2,
     "metadata": {},
     "output_type": "execute_result"
    }
   ],
   "source": [
    "crosscheck = (YieldsPsi2S/YieldsJPsi)*(EffJPsi/EffPsi2S)*(BRJpsiuu/BRPsi2s)\n",
    "crosscheck"
   ]
  },
  {
   "cell_type": "code",
   "execution_count": 3,
   "metadata": {},
   "outputs": [],
   "source": [
    "#Vayamos con el error\n",
    "\n",
    "EYieldsJPsi  = 1783.18  #Los errores de los yields están calculados por cuadraturas\n",
    "EYieldsPsi2S = 528.26\n",
    "EEffJPsi     = 1.14*(10**(-5))\n",
    "EEffPsi2S    = 1.19*(10**(-5))\n",
    "EBRJpsiuu    = 0.00033\n",
    "EBRPsi2s     = 0.6*(10**(-3))"
   ]
  },
  {
   "cell_type": "code",
   "execution_count": 4,
   "metadata": {},
   "outputs": [
    {
     "data": {
      "text/plain": [
       "0.07530161582170222"
      ]
     },
     "execution_count": 4,
     "metadata": {},
     "output_type": "execute_result"
    }
   ],
   "source": [
    "import math\n",
    "\n",
    "pre = math.sqrt(math.pow(EYieldsJPsi/YieldsJPsi,2)+math.pow(EYieldsPsi2S/YieldsPsi2S,2)+math.pow(EEffJPsi/EffJPsi,2)+math.pow(EEffPsi2S/EffPsi2S,2)+math.pow(EBRJpsiuu/BRJpsiuu,2)+math.pow(EBRPsi2s/BRPsi2s,2))\n",
    "pre"
   ]
  },
  {
   "cell_type": "code",
   "execution_count": 5,
   "metadata": {},
   "outputs": [
    {
     "data": {
      "text/plain": [
       "0.046296839508390836"
      ]
     },
     "execution_count": 5,
     "metadata": {},
     "output_type": "execute_result"
    }
   ],
   "source": [
    "Ecrosscheck = crosscheck*pre\n",
    "Ecrosscheck"
   ]
  }
 ],
 "metadata": {
  "kernelspec": {
   "display_name": "analysis",
   "language": "python",
   "name": "python3"
  },
  "language_info": {
   "codemirror_mode": {
    "name": "ipython",
    "version": 3
   },
   "file_extension": ".py",
   "mimetype": "text/x-python",
   "name": "python",
   "nbconvert_exporter": "python",
   "pygments_lexer": "ipython3",
   "version": "3.8.18"
  }
 },
 "nbformat": 4,
 "nbformat_minor": 2
}
